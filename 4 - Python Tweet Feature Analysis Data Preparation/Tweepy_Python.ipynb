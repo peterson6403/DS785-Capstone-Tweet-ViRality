{
 "cells": [
  {
   "cell_type": "markdown",
   "metadata": {},
   "source": [
    "<img src=\"https://datasciencedegree.wisconsin.edu/wp-content/themes/data-gulp/images/logo.svg\" width=\"300\">\n"
   ]
  },
  {
   "cell_type": "markdown",
   "metadata": {},
   "source": [
    "# Capstone Project -- Tweepy Data Collection\n",
    "## Matt Peterson - DS 785\n",
    "### 05/06/2022"
   ]
  },
  {
   "cell_type": "markdown",
   "metadata": {},
   "source": [
    "---\n",
    "\n",
    "## Setup for file system"
   ]
  },
  {
   "cell_type": "markdown",
   "metadata": {},
   "source": [
    "#### Gain access to required libraries"
   ]
  },
  {
   "cell_type": "code",
   "execution_count": null,
   "metadata": {},
   "outputs": [],
   "source": [
    "import os\n",
    "from pathlib import Path"
   ]
  },
  {
   "cell_type": "markdown",
   "metadata": {},
   "source": [
    "#### Set input and output file names"
   ]
  },
  {
   "cell_type": "code",
   "execution_count": null,
   "metadata": {},
   "outputs": [],
   "source": [
    "input_filename = 'VR_Twitter_Usernames_By_Type.csv'\n",
    "output_filename = 'vr_tweets.csv'"
   ]
  },
  {
   "cell_type": "markdown",
   "metadata": {},
   "source": [
    "#### Set input and output directory paths"
   ]
  },
  {
   "cell_type": "code",
   "execution_count": null,
   "metadata": {},
   "outputs": [],
   "source": [
    "file_dir = cwd = Path.cwd()\n",
    "input_file = os.path.join(file_dir, 'input', input_filename)\n",
    "output_file = os.path.join(file_dir, 'output', output_filename)"
   ]
  },
  {
   "cell_type": "markdown",
   "metadata": {},
   "source": [
    "---\n",
    "\n",
    "## Setup for ```tweepy```"
   ]
  },
  {
   "cell_type": "markdown",
   "metadata": {},
   "source": [
    "#### Gain access to the Tweepy library"
   ]
  },
  {
   "cell_type": "code",
   "execution_count": null,
   "metadata": {},
   "outputs": [],
   "source": [
    "import tweepy"
   ]
  },
  {
   "cell_type": "markdown",
   "metadata": {},
   "source": [
    "#### Load credentials from the external file"
   ]
  },
  {
   "cell_type": "code",
   "execution_count": null,
   "metadata": {},
   "outputs": [],
   "source": [
    "run ~/Documents/twitter_credentials_v2.py"
   ]
  },
  {
   "cell_type": "markdown",
   "metadata": {},
   "source": [
    "#### Initialize a client by passing bearer token"
   ]
  },
  {
   "cell_type": "code",
   "execution_count": null,
   "metadata": {},
   "outputs": [],
   "source": [
    "client = tweepy.Client(bearer_token=b_token)"
   ]
  },
  {
   "cell_type": "markdown",
   "metadata": {},
   "source": [
    "#### Configure query information to assist in Twitter search"
   ]
  },
  {
   "cell_type": "code",
   "execution_count": null,
   "metadata": {},
   "outputs": [],
   "source": [
    "#define desired tweet fields and expansions\n",
    "fields = [\"attachments\",\"created_at\",\"public_metrics\",\"entities\"]\n",
    "expansions = [\"attachments.media_keys\",\"author_id\"]"
   ]
  },
  {
   "cell_type": "markdown",
   "metadata": {},
   "source": [
    "---\n",
    "\n",
    "## Use ```pandas``` to Read Twitter Usernames from File"
   ]
  },
  {
   "cell_type": "markdown",
   "metadata": {},
   "source": [
    "#### Gain access to the pandas library"
   ]
  },
  {
   "cell_type": "code",
   "execution_count": null,
   "metadata": {},
   "outputs": [],
   "source": [
    "import pandas as pd"
   ]
  },
  {
   "cell_type": "markdown",
   "metadata": {},
   "source": [
    "#### Import lists of known VR-related Twitter accounts from CSV file"
   ]
  },
  {
   "cell_type": "code",
   "execution_count": null,
   "metadata": {},
   "outputs": [],
   "source": [
    "df = pd.read_csv(input_file, skip_blank_lines=True)\n",
    "\n",
    "developers = [d for d in df['Developers'].tolist() if pd.notna(d)]\n",
    "news_pages = [n for n in df['News'].tolist() if pd.notna(n)]\n",
    "platforms = [p for p in df['Platforms'].tolist() if pd.notna(p)]\n",
    "influencers = [i for i in df['Influencers'].tolist() if pd.notna(i)]"
   ]
  },
  {
   "cell_type": "markdown",
   "metadata": {},
   "source": [
    "---\n",
    "\n",
    "## Define Objects with a Tweet Class"
   ]
  },
  {
   "cell_type": "markdown",
   "metadata": {},
   "source": [
    "#### Gain access to the regular expression library"
   ]
  },
  {
   "cell_type": "code",
   "execution_count": null,
   "metadata": {},
   "outputs": [],
   "source": [
    "import re"
   ]
  },
  {
   "cell_type": "code",
   "execution_count": null,
   "metadata": {},
   "outputs": [],
   "source": [
    "class Tweet(object):\n",
    "    def __init__(self, tweet_id, timestamp, user, usertype, text, media, tweet):\n",
    "        self.tweet_id = tweet_id\n",
    "        self.timestamp = self.format_timestamp(timestamp) #format before storing\n",
    "        self.user_type = usertype\n",
    "        self.text = self.clean_text(text) #clean text before storing\n",
    "        self.tweet_length = len(self.text)\n",
    "        self.user = user\n",
    "        self.media = media\n",
    "        self.tweet = tweet\n",
    "        \n",
    "    def __str__(self):\n",
    "        \"\"\" return a string representation of the Tweet object\"\"\"\n",
    "        return \"TWEET_ID: \" + str(self.tweet_id) + \"\\nTIMESTAMP: \" + self.timestamp + \"\\nNAME: \" + self.get_name() + \"\\nUSERNAME: \" + self.get_username() + \"\\nUSER_TYPE: \" + self.user_type + \"\\nTWEET_LENGTH: \"+ str(self.tweet_length) + \"\\IS_RETWEET: \" + self.get_is_retweet() + \"\\nTEXT: [\" + self.text + \"]\" + \"\\nRETWEET_COUNT: \" + str(self.get_retweet_count()) + \"\\nREPLY_COUNT: \" + str(self.get_reply_count()) + \"\\nLIKE_COUNT: \" + str(self.get_like_count()) + \"\\nQUOTE_COUNT: \" + str(self.get_quote_count()) + \"\\nURL_COUNT: \" + str(self.get_url_count()) + \"\\PHOTO_COUNT: \" + str(self.get_photo_count()) + \"\\VIDEO_COUNT: \" + str(self.get_video_count()) + \"\\GIF_COUNT: \" + str(self.get_gif_count()) + \"\\MENTION_COUNT: \" + str(self.get_mention_count()) + \"\\HASHTAG_COUNT: \" + str(self.get_hashtag_count()) + \"\\MONTH: \" + str(self.get_month()) + \"\\DAY: \" + str(self.get_day()) + \"\\HOUR: \" + str(self.get_hour()) + \"\\nMEDIA: \" + self.list_2_str(self.get_media()) + \"\\nMENTIONS: \" + self.list_2_str(self.get_mentions()) + \"\\nHASHTAGS: \" + self.list_2_str(self.get_hashtags())\n",
    "    \n",
    "    def get_tweet_id(self):\n",
    "        \"\"\" return the unique Twitter tweet ID\"\"\"\n",
    "        return self.tweet_id\n",
    "    \n",
    "    def format_timestamp(self, timestamp):\n",
    "        \"\"\" convert datetime object to a more user-friendly string\"\"\"\n",
    "        return timestamp.strftime(\"%m/%d/%Y, %H:%M:%S\")\n",
    "    \n",
    "    def get_timestamp(self):\n",
    "        \"\"\" return the timestamp at which the tweet was created\"\"\"\n",
    "        return self.timestamp  \n",
    " \n",
    "    def get_name(self):\n",
    "        \"\"\" get the user's name from the tweet data\"\"\"\n",
    "        name = \"UNKNOWN\"\n",
    "        if 'author_id' in self.tweet.data:\n",
    "            author_id = self.tweet.data['author_id']\n",
    "            name = self.user[author_id].name \n",
    "        return name\n",
    "\n",
    "    def get_username(self):\n",
    "        \"\"\" get the user's username from the tweet data\"\"\"\n",
    "        username = \"UNKNOWN\"\n",
    "        if 'author_id' in self.tweet.data:\n",
    "            author_id = self.tweet.data['author_id']\n",
    "            username = self.user[author_id].username \n",
    "        return username\n",
    "    \n",
    "    def get_user_type(self):\n",
    "        \"\"\" return the type of user who authored the tweet\"\"\"\n",
    "        return self.user_type  \n",
    "    \n",
    "    def get_tweet_length(self):\n",
    "        \"\"\" return the character length of the cleaned tweet text\"\"\"\n",
    "        return self.tweet_length  \n",
    "\n",
    "    def get_is_retweet(self):\n",
    "        \"\"\" return whether the tweet is a retweet\"\"\"\n",
    "        return \"TRUE\" if self.text[:5] == \"RT : \" else \"FALSE\" \n",
    "    \n",
    "    def get_text(self):\n",
    "        \"\"\" return the cleaned tweet text\"\"\"\n",
    "        return self.text\n",
    "    \n",
    "    def get_retweet_count(self):\n",
    "        \"\"\" get the retweet_count value from the tweet data\"\"\"\n",
    "        return self.tweet.data['public_metrics']['retweet_count']\n",
    "        \n",
    "    def get_reply_count(self):\n",
    "        \"\"\" get the reply_count value from the tweet data\"\"\"\n",
    "        return self.tweet.data['public_metrics']['reply_count']\n",
    "    \n",
    "    def get_like_count(self):\n",
    "        \"\"\" get the like_count value from the tweet data\"\"\"\n",
    "        return self.tweet.data['public_metrics']['like_count']\n",
    "    \n",
    "    def get_quote_count(self):\n",
    "        \"\"\" get the quote_count value from the tweet data\"\"\"\n",
    "        return self.tweet.data['public_metrics']['quote_count']\n",
    "       \n",
    "    def get_url_count(self):\n",
    "        \"\"\" get the url_count value from the tweet data\"\"\"\n",
    "        url_count = 0\n",
    "        if not self.tweet.entities is None and 'urls' in self.tweet.entities:\n",
    "            url_count = len(self.tweet.entities['urls'])\n",
    "        return url_count\n",
    "    \n",
    "    def get_photo_count(self):\n",
    "        \"\"\" get the number of photos in the tweet media data\"\"\"\n",
    "        return len([media for media in self.get_media() if media == 'photo'])\n",
    "\n",
    "    def get_video_count(self):\n",
    "        \"\"\" get the number of videos in the tweet media data\"\"\"\n",
    "        return len([media for media in self.get_media() if media == 'video'])\n",
    "    \n",
    "    def get_gif_count(self):\n",
    "        \"\"\" get the number of animated_gifs in the tweet media data\"\"\"\n",
    "        return len([media for media in self.get_media() if media == 'animated_gif'])\n",
    "    \n",
    "    def get_mention_count(self):\n",
    "        \"\"\" get the number of mentions in the tweet text\"\"\"\n",
    "        return len(self.get_mentions())\n",
    "    \n",
    "    def get_hashtag_count(self):\n",
    "        \"\"\" get the number of hashtags in the tweet text\"\"\"\n",
    "        return len(self.get_hashtags())\n",
    "    \n",
    "    def get_month(self):\n",
    "        \"\"\" get the month the tweet was posted from timestamp\"\"\"\n",
    "        return self.timestamp[:2]\n",
    "    \n",
    "    def get_day(self):\n",
    "        \"\"\" get the day the tweet was posted from timestamp\"\"\"\n",
    "        return self.timestamp[3:5]\n",
    "    \n",
    "    def get_hour(self):\n",
    "        \"\"\" get the hour the tweet was posted from timestamp\"\"\"\n",
    "        return self.timestamp[12:14]\n",
    "    \n",
    "    def get_media(self):\n",
    "        \"\"\" get the media type list from the tweet data\"\"\"\n",
    "        media_list = []\n",
    "        if 'attachments' in self.tweet.data and 'media_keys' in self.tweet.data['attachments']:\n",
    "            media_key_list = self.tweet.data['attachments']['media_keys']\n",
    "            media_list = [self.media[key].type for key in media_key_list]\n",
    "        return media_list\n",
    "    \n",
    "    def get_mentions(self):\n",
    "        \"\"\" get the mentions list from the tweet data\"\"\"\n",
    "        mentions = []\n",
    "        if not self.tweet.entities is None and 'mentions' in self.tweet.entities:\n",
    "            mentions = [mention['username'] for mention in self.tweet.entities['mentions']]\n",
    "        return mentions\n",
    "    \n",
    "    def get_hashtags(self):\n",
    "        \"\"\" get the hashtags list from the tweet data\"\"\"\n",
    "        hashtags = []\n",
    "        if not self.tweet.entities is None and 'hashtags' in self.tweet.entities:\n",
    "            hashtags = [hashtag['tag'] for hashtag in self.tweet.entities['hashtags']]\n",
    "        return hashtags\n",
    "\n",
    "    def clean_text(self, text):\n",
    "        \"\"\" remove Twitter handles and URLs from text with regex\"\"\"\n",
    "        return ' '.join(re.sub(\"(@[A-Za-z0-9]+)|(\\w+:\\/\\/\\S+)\",\" \",text).split())\n",
    "    \n",
    "    def list_2_str(self, strlist):\n",
    "        \"\"\" helper function to convert lists to strings\"\"\"\n",
    "        return '[' + ', '.join(strlist) + ']'"
   ]
  },
  {
   "cell_type": "markdown",
   "metadata": {},
   "source": [
    "--- \n",
    "\n",
    "## Use the REST API to Gather Tweets"
   ]
  },
  {
   "cell_type": "markdown",
   "metadata": {},
   "source": [
    "#### Function to return user ID mappings for each user in a list of usernames"
   ]
  },
  {
   "cell_type": "code",
   "execution_count": null,
   "metadata": {},
   "outputs": [],
   "source": [
    "# returns username:userid relationship in a dictionary\n",
    "def get_user_dict(username_list):\n",
    "    users = client.get_users(usernames=username_list)\n",
    "    userid_list = [user.id for user in users.data]\n",
    "    user_dict = dict(zip(username_list, userid_list))\n",
    "    return user_dict"
   ]
  },
  {
   "cell_type": "markdown",
   "metadata": {},
   "source": [
    "#### Function that updates the user tweet set with tweets parameterized by exclusions such as retweets & replies"
   ]
  },
  {
   "cell_type": "code",
   "execution_count": null,
   "metadata": {},
   "outputs": [],
   "source": [
    "def get_tweets_by_exclusion(all_user_tweets, curr_user_tweets, user_id, user_type, max_tweets_per_user, exclusions):\n",
    "    media_dict = {}\n",
    "    \n",
    "    #get all of their non-retweet/reply tweets\n",
    "    for tweets in tweepy.Paginator(client.get_users_tweets, \n",
    "                                   id=user_id, \n",
    "                                   max_results=max_tweets_per_user, \n",
    "                                   exclude=exclusions,\n",
    "                                   tweet_fields=fields, \n",
    "                                   expansions=expansions):\n",
    "\n",
    "        if not tweets.data is None:\n",
    "\n",
    "            #get media dictionary from response to map to each tweet later\n",
    "            if 'media' in tweets.includes:\n",
    "                media_dict = {m[\"media_key\"]: m for m in tweets.includes['media']}\n",
    "\n",
    "            #get users dictionary from response to map to each tweet later\n",
    "            if 'users' in tweets.includes: \n",
    "                users_dict = {str(u[\"id\"]): u for u in tweets.includes['users']}\n",
    "\n",
    "            #format the tweets to extract desired fields and store in custom class\n",
    "            formatted_tweets = [Tweet(tweet.id, tweet.created_at, users_dict, user_type, tweet.text, media_dict, tweet) for tweet in tweets.data]\n",
    "\n",
    "            #add list of tweets to the complete set\n",
    "            all_user_tweets.update(formatted_tweets)"
   ]
  },
  {
   "cell_type": "markdown",
   "metadata": {},
   "source": [
    "#### Function to return a set of Tweet objects given a list of Twitter users"
   ]
  },
  {
   "cell_type": "code",
   "execution_count": null,
   "metadata": {},
   "outputs": [],
   "source": [
    "def get_relevant_tweets_for_user_list(user_list, user_type, max_tweets_per_user):\n",
    "    all_user_tweets = set()\n",
    "\n",
    "    #map twitter user ids to usernames\n",
    "    user_dict = get_user_dict(user_list)\n",
    "\n",
    "    #for each user:\n",
    "    for user in user_dict:\n",
    "        \n",
    "        get_tweets_by_exclusion(all_user_tweets, backup_dict[user], user_dict[user], user_type, max_tweets_per_user, [\"retweets\", \"replies\"])\n",
    "        get_tweets_by_exclusion(all_user_tweets, backup_dict[user], user_dict[user], user_type, max_tweets_per_user, [\"replies\"])\n",
    "\n",
    "    return all_user_tweets"
   ]
  },
  {
   "cell_type": "markdown",
   "metadata": {},
   "source": [
    "---\n",
    "\n",
    "## Store a List of Tweet Objects for Each Account Type"
   ]
  },
  {
   "cell_type": "markdown",
   "metadata": {},
   "source": [
    "#### 1. Obtain tweets from VR game developer companies"
   ]
  },
  {
   "cell_type": "code",
   "execution_count": null,
   "metadata": {},
   "outputs": [],
   "source": [
    "developer_tweets = get_relevant_tweets_for_user_list(developers, 'Developer', 100)\n",
    "len(developer_tweets)"
   ]
  },
  {
   "cell_type": "markdown",
   "metadata": {},
   "source": [
    "#### 2. Obtain tweets from VR platform companies"
   ]
  },
  {
   "cell_type": "code",
   "execution_count": null,
   "metadata": {},
   "outputs": [],
   "source": [
    "platform_tweets = get_relevant_tweets_for_user_list(platforms, 'Platform', 100)\n",
    "len(platform_tweets)"
   ]
  },
  {
   "cell_type": "markdown",
   "metadata": {},
   "source": [
    "#### 3. Obtain tweets from VR news and promotional accounts"
   ]
  },
  {
   "cell_type": "code",
   "execution_count": null,
   "metadata": {},
   "outputs": [],
   "source": [
    "newspage_tweets = get_relevant_tweets_for_user_list(news_pages, 'News', 100)\n",
    "len(newspage_tweets)"
   ]
  },
  {
   "cell_type": "markdown",
   "metadata": {},
   "source": [
    "#### 4. Obtain tweets from VR influencer accounts"
   ]
  },
  {
   "cell_type": "code",
   "execution_count": null,
   "metadata": {},
   "outputs": [],
   "source": [
    "influencer_tweets = get_relevant_tweets_for_user_list(influencers, 'Influencer', 100)\n",
    "len(influencer_tweets)"
   ]
  },
  {
   "cell_type": "markdown",
   "metadata": {},
   "source": [
    "---\n",
    "\n",
    "## Use ```pandas``` for Data Frame Creation"
   ]
  },
  {
   "cell_type": "markdown",
   "metadata": {},
   "source": [
    "#### Function to combine several lists of tweets into a single data frame for export"
   ]
  },
  {
   "cell_type": "code",
   "execution_count": null,
   "metadata": {},
   "outputs": [],
   "source": [
    "def create_data_frame_from_tweet_sets(column_names, tweet_sets):\n",
    "    dict_list = []\n",
    "    #add each list of tweets to the dictionary list\n",
    "    for tweet_set in tweet_sets:\n",
    "        for t in tweet_set:\n",
    "            dict_list.append(dict(zip(column_names,[t.get_tweet_id(),\n",
    "                                                    t.get_timestamp(),\n",
    "                                                    t.get_name(),\n",
    "                                                    t.get_username(),\n",
    "                                                    t.get_user_type(),\n",
    "                                                    t.get_tweet_length(),\n",
    "                                                    t.get_is_retweet(),\n",
    "                                                    t.get_text(),\n",
    "                                                    t.get_retweet_count(),\n",
    "                                                    t.get_reply_count(),\n",
    "                                                    t.get_like_count(),\n",
    "                                                    t.get_quote_count(),\n",
    "                                                    t.get_url_count(),\n",
    "                                                    t.get_photo_count(),\n",
    "                                                    t.get_video_count(),\n",
    "                                                    t.get_gif_count(),\n",
    "                                                    t.get_mention_count(),\n",
    "                                                    t.get_hashtag_count(),\n",
    "                                                    t.get_month(),\n",
    "                                                    t.get_day(),\n",
    "                                                    t.get_hour(),\n",
    "                                                    t.get_media(),\n",
    "                                                    t.get_mentions(),\n",
    "                                                    t.get_hashtags()])))\n",
    "            \n",
    "    #create data frame\n",
    "    tweet_df = pd.DataFrame(dict_list)\n",
    "    return tweet_df"
   ]
  },
  {
   "cell_type": "markdown",
   "metadata": {},
   "source": [
    "#### Create master data frame to be analyzed "
   ]
  },
  {
   "cell_type": "code",
   "execution_count": null,
   "metadata": {},
   "outputs": [],
   "source": [
    "column_names = (\"TWEET_ID\", \n",
    "                \"TIMESTAMP\", \n",
    "                \"NAME\", \n",
    "                \"USERNAME\", \n",
    "                \"USER_TYPE\", \n",
    "                \"TWEET_LENGTH\", \n",
    "                \"IS_RETWEET\",\n",
    "                \"TEXT\", \n",
    "                \"RETWEET_COUNT\", \n",
    "                \"REPLY_COUNT\", \n",
    "                \"LIKE_COUNT\", \n",
    "                \"QUOTE_COUNT\", \n",
    "                \"URL_COUNT\",\n",
    "                \"PHOTO_COUNT\",\n",
    "                \"VIDEO_COUNT\",\n",
    "                \"GIF_COUNT\",\n",
    "                \"MENTION_COUNT\",\n",
    "                \"HASHTAG_COUNT\",\n",
    "                \"MONTH\",\n",
    "                \"DAY\",\n",
    "                \"HOUR\",\n",
    "                \"MEDIA\", \n",
    "                \"MENTIONS\", \n",
    "                \"HASHTAGS\")\n",
    "\n",
    "tweet_sets = [developer_tweets, platform_tweets, newspage_tweets, influencer_tweets]\n",
    "tweet_df = create_data_frame_from_tweet_sets(column_names, tweet_sets)"
   ]
  },
  {
   "cell_type": "markdown",
   "metadata": {},
   "source": [
    "---\n",
    "\n",
    "## Export data frame to ```.csv``` file for analysis"
   ]
  },
  {
   "cell_type": "code",
   "execution_count": null,
   "metadata": {},
   "outputs": [],
   "source": [
    "# save dfs to a .csv file\n",
    "tweet_df.to_csv(output_file, index=False)\n",
    "\n",
    "# USE LATER to append df to existing .csv file\n",
    "#tweet_df.to_csv(output_file, mode='a', index=False, header=False)"
   ]
  }
 ],
 "metadata": {
  "kernelspec": {
   "display_name": "Python 3",
   "language": "python",
   "name": "python3"
  },
  "language_info": {
   "codemirror_mode": {
    "name": "ipython",
    "version": 3
   },
   "file_extension": ".py",
   "mimetype": "text/x-python",
   "name": "python",
   "nbconvert_exporter": "python",
   "pygments_lexer": "ipython3",
   "version": "3.7.4"
  }
 },
 "nbformat": 4,
 "nbformat_minor": 1
}
