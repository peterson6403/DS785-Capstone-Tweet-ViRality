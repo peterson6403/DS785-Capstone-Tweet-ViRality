{
 "cells": [
  {
   "cell_type": "markdown",
   "metadata": {},
   "source": [
    "<img src=\"https://datasciencedegree.wisconsin.edu/wp-content/themes/data-gulp/images/logo.svg\" width=\"300\">\n"
   ]
  },
  {
   "cell_type": "markdown",
   "metadata": {},
   "source": [
    "# Capstone Project -- Combine Influential User Lists Exported from Tableau\n",
    "## Matt Peterson - DS 785\n",
    "### 05/06/22"
   ]
  },
  {
   "cell_type": "markdown",
   "metadata": {},
   "source": [
    "---\n",
    "\n",
    "## Setup for file system"
   ]
  },
  {
   "cell_type": "markdown",
   "metadata": {},
   "source": [
    "#### Gain access to required libraries"
   ]
  },
  {
   "cell_type": "code",
   "execution_count": 1,
   "metadata": {},
   "outputs": [],
   "source": [
    "import os\n",
    "from pathlib import Path"
   ]
  },
  {
   "cell_type": "markdown",
   "metadata": {},
   "source": [
    "#### Set input and output file names"
   ]
  },
  {
   "cell_type": "code",
   "execution_count": 2,
   "metadata": {},
   "outputs": [],
   "source": [
    "first_input_file = 'Avg_Betweenness.csv'\n",
    "other_input_files = ['Avg_In-Degree.csv',\n",
    "             'Avg_PageRank.csv',\n",
    "             'Comparison_By_Between.csv',\n",
    "             'Comparison_By_In-Degree.csv',\n",
    "             'Comparison_By_PageRank.csv']\n",
    "\n",
    "output_filename = 'central_vr_twitter_users.csv'"
   ]
  },
  {
   "cell_type": "markdown",
   "metadata": {},
   "source": [
    "#### Set input and output directory paths"
   ]
  },
  {
   "cell_type": "code",
   "execution_count": 3,
   "metadata": {},
   "outputs": [],
   "source": [
    "file_dir = cwd = Path.cwd()\n",
    "input_file = os.path.join(file_dir, 'input', first_input_file)\n",
    "output_file = os.path.join(file_dir, 'output', output_filename)"
   ]
  },
  {
   "cell_type": "markdown",
   "metadata": {},
   "source": [
    "---\n",
    "\n",
    "## Use ```pandas``` to Read Central User Lists from Files"
   ]
  },
  {
   "cell_type": "markdown",
   "metadata": {},
   "source": [
    "#### Gain access to the pandas library"
   ]
  },
  {
   "cell_type": "code",
   "execution_count": 4,
   "metadata": {},
   "outputs": [],
   "source": [
    "import pandas as pd"
   ]
  },
  {
   "cell_type": "markdown",
   "metadata": {},
   "source": [
    "#### Import lists of known VR-related Twitter accounts from CSV file"
   ]
  },
  {
   "cell_type": "code",
   "execution_count": 5,
   "metadata": {},
   "outputs": [],
   "source": [
    "user_df = pd.read_csv(input_file)\n",
    "\n",
    "for filename in other_input_files:\n",
    "    \n",
    "    #read in the new user list file\n",
    "    input_file = os.path.join(file_dir, 'input', filename)\n",
    "    \n",
    "    #store it as a data frame\n",
    "    df = pd.read_csv(input_file)\n",
    "    \n",
    "    #append it to the master data frame\n",
    "    user_df = user_df.append(df)\n",
    "\n",
    "#remove duplicate users from list\n",
    "user_df = user_df.drop_duplicates()"
   ]
  },
  {
   "cell_type": "markdown",
   "metadata": {},
   "source": [
    "---\n",
    "\n",
    "## Export data frame to ```.csv``` file to present to the client in Tableau"
   ]
  },
  {
   "cell_type": "code",
   "execution_count": 6,
   "metadata": {},
   "outputs": [],
   "source": [
    "# save df to a .csv file\n",
    "user_df.to_csv(output_file, index=False)"
   ]
  }
 ],
 "metadata": {
  "kernelspec": {
   "display_name": "Python 3",
   "language": "python",
   "name": "python3"
  },
  "language_info": {
   "codemirror_mode": {
    "name": "ipython",
    "version": 3
   },
   "file_extension": ".py",
   "mimetype": "text/x-python",
   "name": "python",
   "nbconvert_exporter": "python",
   "pygments_lexer": "ipython3",
   "version": "3.7.4"
  }
 },
 "nbformat": 4,
 "nbformat_minor": 1
}
